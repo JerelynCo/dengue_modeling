{
 "cells": [
  {
   "cell_type": "markdown",
   "metadata": {},
   "source": [
    "# Dengue Modeling Stat Analysis Script\n",
    "*Created Feb 15, 2017 by Jerelyn Co*\n",
    "\n",
    "Script generating **pearson's r**, **p-value**, and **nrmse** results from simulation results and validator files from DOH data\n",
    "\n",
    "Python libraries used:\n",
    "    - numpy\n",
    "    - pandas\n",
    "    - scipy\n",
    "    - os\n"
   ]
  },
  {
   "cell_type": "code",
   "execution_count": 21,
   "metadata": {
    "collapsed": false
   },
   "outputs": [],
   "source": [
    "# Importing libraries\n",
    "import os\n",
    "import shutil\n",
    "\n",
    "import numpy as np\n",
    "import pandas as pd\n",
    "from scipy.stats.stats import pearsonr\n",
    "\n",
    "%matplotlib inline\n",
    "import seaborn as sns\n",
    "\n",
    "\"\"\"\n",
    "@desc   \n",
    "@return  \n",
    "\"\"\"\n",
    "def nrmse(p, t):\n",
    "    return np.sqrt( ((p-t)**2).mean() ) / (p.max() - p.min())\n",
    "\n",
    "\"\"\"\n",
    "@desc    \n",
    "@return\n",
    "\"\"\"\n",
    "def generate_monthly(year_range, month_range):\n",
    "    # Constants\n",
    "    YEAR = year_range\n",
    "    MONTH = month_range\n",
    "    \n",
    "    # Initializing dataframes for result\n",
    "    monthly_res = pd.DataFrame(columns=(\"year\", \"month\", \"pearsonr\", \"pval\", \"nrmse\"))\n",
    "\n",
    "    # Iterating per year and per month\n",
    "    idx = 0\n",
    "    for year in range(YEAR[0], YEAR[1] + 1):\n",
    "        for month in range(MONTH[0], MONTH[1] + 1):\n",
    "            # Loading dataframes to compare for correlation and NRMSE\n",
    "            sim_res_df = pd.read_csv(\"Decorator_{0}-{1:02d}/dengue/human/I_0.csv\".format(year, month))\n",
    "            validator_df = pd.read_csv(\"validators/Cumulative14Days_{0}-{1:02d}.csv\".format(year, month))\n",
    "\n",
    "            # Flatten-ing dataframes and excluding first two columns: iteration and time\n",
    "            sim_res_flatten = sim_res_df.iloc[:,2:].values.flatten()\n",
    "            validator_flatten = validator_df.iloc[:,2:].values.flatten()\n",
    "\n",
    "            # Computing pearson r and p-value\n",
    "            pr, pval = pearsonr(sim_res_flatten, validator_flatten)\n",
    "            \n",
    "            # Computing nrmse\n",
    "            error = nrmse(sim_res_flatten, validator_flatten)\n",
    "            \n",
    "            # Adding new row of results to dataframe\n",
    "            monthly_res.loc[idx] = [str(year), \"{0:02d}\".format(month), pr, pval, error]\n",
    "            \n",
    "            \n",
    "            idx += 1\n",
    "            \n",
    "    return monthly_res\n",
    "\n",
    "\"\"\"\n",
    "@desc    \n",
    "@return\n",
    "\"\"\"\n",
    "def generate_yearly(monthly_data, year_range):\n",
    "    YEAR = year_range\n",
    "    \n",
    "    # Initializing dataframes for result\n",
    "    yearly_res = pd.DataFrame(columns=(\"year\", \"pearsonr\", \"pval\", \"nrmse\"))\n",
    "    \n",
    "    idx = 0 \n",
    "    for year in range(YEAR[0], YEAR[1] + 1):\n",
    "        yearly_mean = monthly_data[monthly_data[\"year\"] == str(year)][[\"pearsonr\", \"pval\", \"nrmse\"]].mean()\n",
    "        yearly_res.loc[idx] = [str(year), yearly_mean[0], yearly_mean[1], yearly_mean[2]]\n",
    "        idx += 1\n",
    "    return yearly_res\n",
    "\n",
    "\n",
    "\"\"\"\n",
    "@desc    \n",
    "@return\n",
    "\"\"\"\n",
    "def plot_yearly(x=None, y=None, ylim=None, data=None):\n",
    "    sns.set_style(\"whitegrid\")\n",
    "    ax = sns.barplot(x=x, y=y, data=data)\n",
    "    ax.set(ylim=ylim)\n",
    "    \n",
    "\"\"\"\n",
    "@desc    \n",
    "@return\n",
    "\"\"\"   \n",
    "def generate_files(project_name, dest_path):\n",
    "    year_range=[2012, 2015]\n",
    "    month_range=[1, 12]\n",
    "    # Generating results\n",
    "    monthly_res = generate_monthly(year_range, month_range)\n",
    "    yearly_res = generate_yearly(monthly_res, year_range)\n",
    "    \n",
    "    # Writing results to csv\n",
    "    yearly_res.to_csv(dest_path + \"/yearly_results.csv\")\n",
    "    monthly_res.to_csv(dest_path + \"/monthly_results.csv\")\n",
    "\n",
    "def graph_results(is_generate=False, version_dir=\"\"):\n",
    "    # Paths\n",
    "    project_name = \"DenguePhilippinesGeneric\"\n",
    "    main_path = \"/home/fassster/stem/workspace/\" + project_name\n",
    "    dest_path = main_path + \"/\" + version_dir + \"/\"\n",
    "    wd_path = main_path + \"/saved_sims\"\n",
    "\n",
    "    # Set working directory\n",
    "    os.chdir(wd_path)\n",
    "\n",
    "    # Generate files\n",
    "    if is_generate == True:\n",
    "        generate_files(project_name, wd_path)\n",
    "\n",
    "        files = os.listdir(wd_path)\n",
    "\n",
    "        for f in files:\n",
    "            if (f.startswith(\"Decorator\") or f.endswith(\".csv\")):\n",
    "                shutil.move(f, dest_path)\n",
    "    \n",
    "    # Set working directory\n",
    "    os.chdir(dest_path)\n",
    "\n",
    "    # Load yearly results\n",
    "    yearly_res = pd.read_csv(\"yearly_results.csv\")\n",
    "\n",
    "    # Plotting of results\n",
    "    plt.figure()\n",
    "    plot_yearly(x=\"year\", y=\"pearsonr\", ylim=(0,1), data=yearly_res)\n",
    "    plt.figure()\n",
    "    plot_yearly(x=\"year\", y=\"nrmse\", ylim=(yearly_res[\"nrmse\"].min(), yearly_res[\"nrmse\"].max() + 1), data=yearly_res)\n"
   ]
  },
  {
   "cell_type": "markdown",
   "metadata": {},
   "source": [
    "## Results from Sir Rjel's suggestion\n",
    "Revisions as follow:\n",
    "- delta transmissionRate\\*S\\*(effective(i)/(ratioAedesToHuman\\*0.5)); **changed** to delta transmissionRate\\*S\\*effective(i)\\*ratioAedesToHuman\\*0.5;\n",
    "- Infectious Mortality rate : 2.9 -> 0.0 \n",
    "- RatioAedesToHuman : 0.1 -> 2.0\n"
   ]
  },
  {
   "cell_type": "code",
   "execution_count": 7,
   "metadata": {
    "collapsed": false
   },
   "outputs": [
    {
     "data": {
      "image/png": "[encoded data removed]",
      "text/plain": [
       "<matplotlib.figure.Figure at 0x7f0c87dbe8d0>"
      ]
     },
     "metadata": {},
     "output_type": "display_data"
    },
    {
     "data": {
      "image/png": "[encoded data removed]",
      "text/plain": [
       "<matplotlib.figure.Figure at 0x7f0c87d57e10>"
      ]
     },
     "metadata": {},
     "output_type": "display_data"
    }
   ],
   "source": [
    "graph_results(is_generate=False, version_dir=\"v1.0\")"
   ]
  },
  {
   "cell_type": "markdown",
   "metadata": {},
   "source": [
    "## Results from more precised parameters\n",
    "\n",
    "\n",
    "Retained transmission rate equation:\n",
    "- delta transmissionRate\\*S\\*effective(i)\\*ratioAedesToHuman\\*0.5;\n",
    "\n",
    "Parameters used:\n",
    "- Transmission Rate: 0.329/day\n",
    "- Recovery Rate: 0.146/day\n",
    "- Infectious Mortality Rate: 0.01 / day\n",
    "- Incubation Rate (host): 0.178/day\n",
    "- Ratio Aedes to Human: 1.9\n",
    "- Immunity Loss Rate: 0.0645/day\n",
    "\n",
    "[Link for the parameters and their sources, see v1.1](https://docs.google.com/document/d/1nSITohhPkUt8FH-g1SiLuK3lYASVfCieePMzFy22Gq4/edit)"
   ]
  },
  {
   "cell_type": "code",
   "execution_count": 8,
   "metadata": {
    "collapsed": false
   },
   "outputs": [
    {
     "data": {
      "image/png": "[encoded data removed]",
      "text/plain": [
       "<matplotlib.figure.Figure at 0x7f0c87e90828>"
      ]
     },
     "metadata": {},
     "output_type": "display_data"
    },
    {
     "data": {
      "image/png": "[encoded data removed]",
      "text/plain": [
       "<matplotlib.figure.Figure at 0x7f0c87d87ef0>"
      ]
     },
     "metadata": {},
     "output_type": "display_data"
    }
   ],
   "source": [
    "graph_results(is_generate=False, version_dir=\"v1.1\")"
   ]
  },
  {
   "cell_type": "code",
   "execution_count": 15,
   "metadata": {
    "collapsed": false
   },
   "outputs": [],
   "source": [
    "\n"
   ]
  },
  {
   "cell_type": "code",
   "execution_count": 23,
   "metadata": {
    "collapsed": false
   },
   "outputs": [
    {
     "data": {
      "image/png": "[encoded data removed]",
      "text/plain": [
       "<matplotlib.figure.Figure at 0x7f0c8b8e0b70>"
      ]
     },
     "metadata": {},
     "output_type": "display_data"
    },
    {
     "data": {
      "image/png": "[encoded data removed]",
      "text/plain": [
       "<matplotlib.figure.Figure at 0x7f0c87b85978>"
      ]
     },
     "metadata": {},
     "output_type": "display_data"
    }
   ],
   "source": [
    "graph_results(is_generate=True, version_dir=\"v1.3\")"
   ]
  }
 ],
 "metadata": {
  "kernelspec": {
   "display_name": "Python 3",
   "language": "python",
   "name": "python3"
  },
  "language_info": {
   "codemirror_mode": {
    "name": "ipython",
    "version": 3
   },
   "file_extension": ".py",
   "mimetype": "text/x-python",
   "name": "python",
   "nbconvert_exporter": "python",
   "pygments_lexer": "ipython3",
   "version": "3.5.2"
  }
 },
 "nbformat": 4,
 "nbformat_minor": 2
}
